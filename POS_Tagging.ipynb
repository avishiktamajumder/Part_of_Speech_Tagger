{
  "nbformat": 4,
  "nbformat_minor": 0,
  "metadata": {
    "colab": {
      "provenance": []
    },
    "kernelspec": {
      "name": "python3",
      "display_name": "Python 3"
    },
    "language_info": {
      "name": "python"
    }
  },
  "cells": [
    {
      "cell_type": "markdown",
      "source": [
        "### **POS Tagging Model**\n"
      ],
      "metadata": {
        "id": "mOFz9EtJEwUz"
      }
    },
    {
      "cell_type": "code",
      "execution_count": 1,
      "metadata": {
        "id": "s3OPgju1ELq9"
      },
      "outputs": [],
      "source": [
        "import nltk\n",
        "import numpy as np\n",
        "import pandas as pd\n",
        "import random\n",
        "from sklearn.model_selection import train_test_split\n",
        "import pprint, time"
      ]
    },
    {
      "cell_type": "code",
      "source": [
        "nltk.download('treebank')"
      ],
      "metadata": {
        "colab": {
          "base_uri": "https://localhost:8080/"
        },
        "id": "ahADhxAdEj9Z",
        "outputId": "d83fbacf-e8dc-47ee-d2fe-ac1bcd99f75e"
      },
      "execution_count": 2,
      "outputs": [
        {
          "output_type": "stream",
          "name": "stderr",
          "text": [
            "[nltk_data] Downloading package treebank to /root/nltk_data...\n",
            "[nltk_data]   Unzipping corpora/treebank.zip.\n"
          ]
        },
        {
          "output_type": "execute_result",
          "data": {
            "text/plain": [
              "True"
            ]
          },
          "metadata": {},
          "execution_count": 2
        }
      ]
    },
    {
      "cell_type": "code",
      "source": [
        "nltk.download('universal_tagset')"
      ],
      "metadata": {
        "colab": {
          "base_uri": "https://localhost:8080/"
        },
        "id": "7SauOuzlFlTh",
        "outputId": "6063f7e6-6372-4b75-ff42-21da784f93c1"
      },
      "execution_count": 3,
      "outputs": [
        {
          "output_type": "stream",
          "name": "stderr",
          "text": [
            "[nltk_data] Downloading package universal_tagset to /root/nltk_data...\n",
            "[nltk_data]   Unzipping taggers/universal_tagset.zip.\n"
          ]
        },
        {
          "output_type": "execute_result",
          "data": {
            "text/plain": [
              "True"
            ]
          },
          "metadata": {},
          "execution_count": 3
        }
      ]
    },
    {
      "cell_type": "code",
      "source": [
        "nltk_data = list(nltk.corpus.treebank.tagged_sents(tagset='universal'))"
      ],
      "metadata": {
        "id": "yxk8lukTFtct"
      },
      "execution_count": 4,
      "outputs": []
    },
    {
      "cell_type": "code",
      "source": [
        "print(nltk_data[:2])"
      ],
      "metadata": {
        "colab": {
          "base_uri": "https://localhost:8080/"
        },
        "id": "dnygYJb8F46e",
        "outputId": "feb7c44a-2940-49e0-da95-f722dcc19aa4"
      },
      "execution_count": 5,
      "outputs": [
        {
          "output_type": "stream",
          "name": "stdout",
          "text": [
            "[[('Pierre', 'NOUN'), ('Vinken', 'NOUN'), (',', '.'), ('61', 'NUM'), ('years', 'NOUN'), ('old', 'ADJ'), (',', '.'), ('will', 'VERB'), ('join', 'VERB'), ('the', 'DET'), ('board', 'NOUN'), ('as', 'ADP'), ('a', 'DET'), ('nonexecutive', 'ADJ'), ('director', 'NOUN'), ('Nov.', 'NOUN'), ('29', 'NUM'), ('.', '.')], [('Mr.', 'NOUN'), ('Vinken', 'NOUN'), ('is', 'VERB'), ('chairman', 'NOUN'), ('of', 'ADP'), ('Elsevier', 'NOUN'), ('N.V.', 'NOUN'), (',', '.'), ('the', 'DET'), ('Dutch', 'NOUN'), ('publishing', 'VERB'), ('group', 'NOUN'), ('.', '.')]]\n"
          ]
        }
      ]
    },
    {
      "cell_type": "code",
      "source": [
        "train_set,test_set =train_test_split(nltk_data,train_size=0.80,test_size=0.20,random_state = 101)"
      ],
      "metadata": {
        "id": "oZHvH82PF9dH"
      },
      "execution_count": 6,
      "outputs": []
    },
    {
      "cell_type": "code",
      "source": [
        "train_tagged_words = [ tup for sent in train_set for tup in sent ]\n",
        "test_tagged_words = [ tup for sent in test_set for tup in sent ]"
      ],
      "metadata": {
        "id": "FTI2ClHcGBuR"
      },
      "execution_count": 7,
      "outputs": []
    },
    {
      "cell_type": "code",
      "source": [
        "train_tagged_words[:5]\n"
      ],
      "metadata": {
        "colab": {
          "base_uri": "https://localhost:8080/"
        },
        "id": "6EknwQWHGHda",
        "outputId": "e952bf0c-89db-46f4-af08-d187a118dec4"
      },
      "execution_count": 8,
      "outputs": [
        {
          "output_type": "execute_result",
          "data": {
            "text/plain": [
              "[('Drink', 'NOUN'),\n",
              " ('Carrier', 'NOUN'),\n",
              " ('Competes', 'VERB'),\n",
              " ('With', 'ADP'),\n",
              " ('Cartons', 'NOUN')]"
            ]
          },
          "metadata": {},
          "execution_count": 8
        }
      ]
    },
    {
      "cell_type": "code",
      "source": [
        "tags = {tag for word,tag in train_tagged_words}"
      ],
      "metadata": {
        "id": "cRfD9Q89GKrs"
      },
      "execution_count": 9,
      "outputs": []
    },
    {
      "cell_type": "code",
      "source": [
        "vocab = {word for word,tag in train_tagged_words}"
      ],
      "metadata": {
        "id": "Xme0LzhHGPHH"
      },
      "execution_count": 10,
      "outputs": []
    },
    {
      "cell_type": "code",
      "source": [
        "print(\"\\nCalculating Emission Probablity...\")\n",
        "def word_given_tag(word, tag, train_bag = train_tagged_words):\n",
        "    tag_list = [pair for pair in train_bag if pair[1]==tag]\n",
        "    count_tag = len(tag_list)#total number of times the passed tag occurred in train_bag\n",
        "    w_given_tag_list = [pair[0] for pair in tag_list if pair[0]==word]\n",
        "    count_w_given_tag = len(w_given_tag_list)\n",
        "    return (count_w_given_tag, count_tag)"
      ],
      "metadata": {
        "colab": {
          "base_uri": "https://localhost:8080/"
        },
        "id": "bKPRZhodGSKO",
        "outputId": "6406a0d7-a51b-491a-e0dc-86503c8ed6ec"
      },
      "execution_count": 11,
      "outputs": [
        {
          "output_type": "stream",
          "name": "stdout",
          "text": [
            "\n",
            "Calculating Emission Probablity...\n"
          ]
        }
      ]
    },
    {
      "cell_type": "code",
      "source": [
        "print(\"Calculating Transmission Probablity...\")\n",
        "#! compute  Transition Probability\n",
        "def t2_given_t1(t2, t1, train_bag = train_tagged_words):\n",
        "    tags = [pair[1] for pair in train_bag]\n",
        "    count_t1 = len([t for t in tags if t==t1])\n",
        "    count_t2_t1 = 0\n",
        "    for index in range(len(tags)-1):\n",
        "        if tags[index]==t1 and tags[index+1] == t2:\n",
        "            count_t2_t1 += 1\n",
        "    return (count_t2_t1, count_t1)"
      ],
      "metadata": {
        "colab": {
          "base_uri": "https://localhost:8080/"
        },
        "id": "PpSr2PWwGWTQ",
        "outputId": "56a31125-6fa8-4f7f-96f2-8af9e238b976"
      },
      "execution_count": 12,
      "outputs": [
        {
          "output_type": "stream",
          "name": "stdout",
          "text": [
            "Calculating Transmission Probablity...\n"
          ]
        }
      ]
    },
    {
      "cell_type": "code",
      "source": [
        "tags_matrix = np.zeros((len(tags), len(tags)), dtype='float32')\n",
        "for i, t1 in enumerate(list(tags)):\n",
        "    for j, t2 in enumerate(list(tags)):\n",
        "        tags_matrix[i, j] = t2_given_t1(t2, t1)[0]/t2_given_t1(t2, t1)[1]"
      ],
      "metadata": {
        "id": "Vskp1xJJG3MB"
      },
      "execution_count": 13,
      "outputs": []
    },
    {
      "cell_type": "code",
      "source": [
        "tags_df = pd.DataFrame(tags_matrix, columns = list(tags), index=list(tags))\n",
        "print(tags_df)"
      ],
      "metadata": {
        "colab": {
          "base_uri": "https://localhost:8080/"
        },
        "id": "vYpO0jM9G7gJ",
        "outputId": "a164f9b7-1231-46d1-9895-b58be6a4ddef"
      },
      "execution_count": 14,
      "outputs": [
        {
          "output_type": "stream",
          "name": "stdout",
          "text": [
            "           ADP       NUM       PRT       ADJ      CONJ         .      VERB  \\\n",
            "ADP   0.016958  0.063275  0.001266  0.107062  0.001012  0.038724  0.008479   \n",
            "NUM   0.037487  0.184220  0.026062  0.035345  0.014281  0.119243  0.020707   \n",
            "PRT   0.019569  0.056751  0.001174  0.082975  0.002348  0.045010  0.401174   \n",
            "ADJ   0.080583  0.021748  0.011456  0.063301  0.016893  0.066019  0.011456   \n",
            "CONJ  0.055982  0.040615  0.004391  0.113611  0.000549  0.035126  0.150384   \n",
            ".     0.092908  0.078210  0.002789  0.046132  0.060079  0.092372  0.089690   \n",
            "VERB  0.092357  0.022836  0.030663  0.066390  0.005433  0.034807  0.167956   \n",
            "DET   0.009918  0.022855  0.000287  0.206411  0.000431  0.017393  0.040247   \n",
            "NOUN  0.176827  0.009144  0.043935  0.012584  0.042454  0.240094  0.149134   \n",
            "ADV   0.119472  0.029868  0.014740  0.130721  0.006982  0.139255  0.339022   \n",
            "PRON  0.022323  0.006834  0.014123  0.070615  0.005011  0.041913  0.484738   \n",
            "X     0.142226  0.003075  0.185086  0.017682  0.010379  0.160869  0.206419   \n",
            "\n",
            "           DET      NOUN       ADV      PRON         X  \n",
            "ADP   0.320931  0.323589  0.014553  0.069603  0.034548  \n",
            "NUM   0.003570  0.351660  0.003570  0.001428  0.202428  \n",
            "PRT   0.101370  0.250489  0.009393  0.017613  0.012133  \n",
            "ADJ   0.005243  0.696893  0.005243  0.000194  0.020971  \n",
            "CONJ  0.123491  0.349067  0.057080  0.060373  0.009330  \n",
            ".     0.172192  0.218539  0.052569  0.068769  0.025641  \n",
            "VERB  0.133610  0.110589  0.083886  0.035543  0.215930  \n",
            "DET   0.006037  0.635906  0.012074  0.003306  0.045134  \n",
            "NOUN  0.013106  0.262344  0.016895  0.004659  0.028825  \n",
            "ADV   0.071373  0.032196  0.081458  0.012025  0.022886  \n",
            "PRON  0.009567  0.212756  0.036902  0.006834  0.088383  \n",
            "X     0.056890  0.061695  0.025754  0.054200  0.075726  \n"
          ]
        }
      ]
    },
    {
      "cell_type": "code",
      "source": [
        "random.seed(1234)"
      ],
      "metadata": {
        "id": "hzI9VYJWHCDj"
      },
      "execution_count": 15,
      "outputs": []
    },
    {
      "cell_type": "code",
      "source": [
        "rndom = [random.randint(1,len(test_set)) for x in range(10)]"
      ],
      "metadata": {
        "id": "JwdIrDbGHf37"
      },
      "execution_count": 16,
      "outputs": []
    },
    {
      "cell_type": "code",
      "source": [
        "test_run = [test_set[i] for i in rndom]"
      ],
      "metadata": {
        "id": "xZvAqTx9Hkj4"
      },
      "execution_count": 17,
      "outputs": []
    },
    {
      "cell_type": "code",
      "source": [
        "test_run_base = [tup for sent in test_run for tup in sent]"
      ],
      "metadata": {
        "id": "fEM6RhYzHnv7"
      },
      "execution_count": 18,
      "outputs": []
    },
    {
      "cell_type": "code",
      "source": [
        "test_tagged_words = [tup[0] for sent in test_run for tup in sent]"
      ],
      "metadata": {
        "id": "l3ZZMjJmHqr6"
      },
      "execution_count": 19,
      "outputs": []
    },
    {
      "cell_type": "code",
      "source": [
        "patterns = [\n",
        "    (r'.*ing$', 'VERB'),              # gerund\n",
        "    (r'.*ed$', 'VERB'),               # past tense\n",
        "    (r'.*es$', 'VERB'),               # verb\n",
        "    (r'.*\\'s$', 'NOUN'),              # possessive nouns\n",
        "    (r'.*s$', 'NOUN'),                # plural nouns\n",
        "    (r'\\*T?\\*?-[0-9]+$', 'X'),        # X\n",
        "    (r'^-?[0-9]+(.[0-9]+)?$', 'NUM'), # cardinal numbers\n",
        "    (r'.*', 'NOUN')                   # nouns\n",
        "]"
      ],
      "metadata": {
        "id": "JT-RiHSHHuMn"
      },
      "execution_count": 20,
      "outputs": []
    },
    {
      "cell_type": "code",
      "source": [
        "rule_based_tagger = nltk.RegexpTagger(patterns)"
      ],
      "metadata": {
        "id": "ZNT99XUzH1M5"
      },
      "execution_count": 21,
      "outputs": []
    },
    {
      "cell_type": "code",
      "source": [
        "print(\"\\nRunning Viterbi Algorithm...\")\n",
        "#modified Viterbi to include rule based tagger in it\n",
        "def Viterbi_rule_based(words, train_bag = train_tagged_words):\n",
        "    state = []\n",
        "    T = list(set([pair[1] for pair in train_bag]))\n",
        "\n",
        "    for key, word in enumerate(words):\n",
        "        #initialise list of probability column for a given observation\n",
        "        p = []\n",
        "        for tag in T:\n",
        "            if key == 0:\n",
        "                transition_p = tags_df.loc['.', tag]\n",
        "            else:\n",
        "                transition_p = tags_df.loc[state[-1], tag]\n",
        "\n",
        "            # compute emission and state probabilities\n",
        "            emission_p = word_given_tag(words[key], tag)[0]/word_given_tag(words[key], tag)[1]\n",
        "            state_probability = emission_p * transition_p\n",
        "            p.append(state_probability)\n",
        "\n",
        "        pmax = max(p)\n",
        "        state_max = rule_based_tagger.tag([word])[0][1]\n",
        "\n",
        "\n",
        "        if(pmax==0):\n",
        "            state_max = rule_based_tagger.tag([word])[0][1] # assign based on rule based tagger\n",
        "        else:\n",
        "            if state_max != 'X':\n",
        "                # getting state for which probability is maximum\n",
        "                state_max = T[p.index(pmax)]\n",
        "\n",
        "\n",
        "        state.append(state_max)\n",
        "    return list(zip(words, state))"
      ],
      "metadata": {
        "colab": {
          "base_uri": "https://localhost:8080/"
        },
        "id": "PHkJtyBcH48A",
        "outputId": "efe26ea4-faef-4b8a-af36-be42565d59f2"
      },
      "execution_count": 22,
      "outputs": [
        {
          "output_type": "stream",
          "name": "stdout",
          "text": [
            "\n",
            "Running Viterbi Algorithm...\n"
          ]
        }
      ]
    },
    {
      "cell_type": "code",
      "source": [
        "start = time.time()\n",
        "tagged_seq = Viterbi_rule_based(test_tagged_words)\n",
        "end = time.time()\n",
        "difference = end-start"
      ],
      "metadata": {
        "id": "bwE-wR1cIAYH"
      },
      "execution_count": 23,
      "outputs": []
    },
    {
      "cell_type": "code",
      "source": [
        "print(\"\\nTime taken in seconds: \", round(difference,2))"
      ],
      "metadata": {
        "colab": {
          "base_uri": "https://localhost:8080/"
        },
        "id": "f0m0ZvUKIE7U",
        "outputId": "163b5225-4c5b-4a1a-b9be-c97ab836a284"
      },
      "execution_count": 24,
      "outputs": [
        {
          "output_type": "stream",
          "name": "stdout",
          "text": [
            "\n",
            "Time taken in seconds:  48.63\n"
          ]
        }
      ]
    },
    {
      "cell_type": "code",
      "source": [
        "check = [i for i, j in zip(tagged_seq, test_run_base) if i == j]"
      ],
      "metadata": {
        "id": "uRdLliP6IX83"
      },
      "execution_count": 25,
      "outputs": []
    },
    {
      "cell_type": "code",
      "source": [
        "accuracy = len(check)/len(tagged_seq)\n",
        "print('Viterbi Algorithm Accuracy: ',round(accuracy*100,2))"
      ],
      "metadata": {
        "colab": {
          "base_uri": "https://localhost:8080/"
        },
        "id": "nQ-zCF8EIbyh",
        "outputId": "9c97075c-7066-4179-ec38-e95891d04f9b"
      },
      "execution_count": 26,
      "outputs": [
        {
          "output_type": "stream",
          "name": "stdout",
          "text": [
            "Viterbi Algorithm Accuracy:  97.13\n"
          ]
        }
      ]
    },
    {
      "cell_type": "code",
      "source": [
        "test_sent=\"The brown cat jumped over the grey fox.\"\n",
        "pred_tags_rule=Viterbi_rule_based(test_sent.split())"
      ],
      "metadata": {
        "id": "h8FvzpW1IiiK"
      },
      "execution_count": 27,
      "outputs": []
    },
    {
      "cell_type": "code",
      "source": [
        "print(pred_tags_rule)"
      ],
      "metadata": {
        "colab": {
          "base_uri": "https://localhost:8080/"
        },
        "id": "Pgq5dDF5ItZM",
        "outputId": "d7aa1124-74cd-4999-a7bf-c30113ec6d1e"
      },
      "execution_count": 28,
      "outputs": [
        {
          "output_type": "stream",
          "name": "stdout",
          "text": [
            "[('The', 'DET'), ('brown', 'NOUN'), ('cat', 'NOUN'), ('jumped', 'VERB'), ('over', 'ADP'), ('the', 'DET'), ('grey', 'NOUN'), ('fox.', 'NOUN')]\n"
          ]
        }
      ]
    },
    {
      "cell_type": "code",
      "source": [],
      "metadata": {
        "id": "0qclqk1yIykq"
      },
      "execution_count": 28,
      "outputs": []
    }
  ]
}